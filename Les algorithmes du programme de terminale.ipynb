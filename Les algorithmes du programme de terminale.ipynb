{
 "cells": [
  {
   "cell_type": "markdown",
   "metadata": {},
   "source": [
    "# Les algorithmes du programme de spécialité en terminale"
   ]
  },
  {
   "cell_type": "markdown",
   "metadata": {},
   "source": [
    "## Liste des algorithmes<a id='sommaire'></a>\n",
    "\n",
    "1. [Pour un entier n donné, générer la liste des $\\binom{n}{k}$ à l'aide de la relation de Pascal](#exemple-1)\n",
    "2. [Générer les permutations d'un ensemble fini, ou tirage aléatoire d'une permutation](#exemple-2)\n",
    "3. [Génération des parties à 2, 3 éléments d'un ensemble fini](#exemple-3)\n",
    "4. [Recherche de seuils](#exemple-4)\n",
    "5. [Calculs de valeurs approchées de $\\sqrt{2}$, de $\\dfrac{1+\\sqrt{5}}{2}$, de $\\ln(2)$, etc](#exemple-5)\n",
    "6. [Méthode de Newton, méthode de la sécante](#exemple-6)\n",
    "7. [Méthode de dichotomie](#exemple-7)\n",
    "8. [Algorithme de Briggs pour le calcul du logarithme](#exemple-8)\n",
    "9. [Résolution par la méthode d'Euler de $y^\\prime = f$ ou de $y^\\prime = ay+b$](#exemple-9)\n",
    "10. [Méthodes des rectangles, des milieux, des trapèzes](#exemple-10)\n",
    "11. [Méthode de Monte-Carlo](#exemple-11)\n",
    "12. [Algorithme de Brouckner pour le calcul de $\\ln(2)$](#exemple-12)\n",
    "13. [Simulation de la planche de Galton](#exemple-13)\n",
    "14. [Problème de la surréservation](#exemple-14)\n",
    "15. [Simulation d'un échantillon d'une variable aléatoire](#exemple-15)\n",
    "16. [Calculer la probabilité de $|S_n - p_n|>\\sqrt{n}$ où $S_n$ suit une loi binomiale](#exemple-16)\n",
    "17. [Simulation d'une marche aléatoire](#exemple-17)\n",
    "18. [Simuler N échantillons de taille n d'une V.A.](#exemple-18)"
   ]
  },
  {
   "cell_type": "markdown",
   "metadata": {},
   "source": [
    "## Combinatoire et dénombrement"
   ]
  },
  {
   "cell_type": "markdown",
   "metadata": {},
   "source": [
    "### 1. Générer une liste des coefficients binomiaux<a id=\"exemple-1\"></a>\n",
    "\n",
    "#### Avec une fonction récursive"
   ]
  },
  {
   "cell_type": "code",
   "execution_count": 1,
   "metadata": {},
   "outputs": [],
   "source": [
    "def binom(n,k):\n",
    "    assert n >= 0, 'n doit être supérieur à 0'\n",
    "    assert k <= n, 'k doit être inférieur ou égal à n'\n",
    "    if n == 1 or k == 0 or k == n:\n",
    "        return 1\n",
    "    else:\n",
    "        return binom(n-1,k-1) + binom(n-1,k)"
   ]
  },
  {
   "cell_type": "code",
   "execution_count": 22,
   "metadata": {},
   "outputs": [
    {
     "data": {
      "text/plain": [
       "[[1],\n",
       " [1, 1],\n",
       " [1, 2, 1],\n",
       " [1, 3, 3, 1],\n",
       " [1, 4, 6, 4, 1],\n",
       " [1, 5, 10, 10, 5, 1],\n",
       " [1, 6, 15, 20, 15, 6, 1],\n",
       " [1, 7, 21, 35, 35, 21, 7, 1],\n",
       " [1, 8, 28, 56, 70, 56, 28, 8, 1],\n",
       " [1, 9, 36, 84, 126, 126, 84, 36, 9, 1],\n",
       " [1, 10, 45, 120, 210, 252, 210, 120, 45, 10, 1]]"
      ]
     },
     "execution_count": 22,
     "metadata": {},
     "output_type": "execute_result"
    }
   ],
   "source": [
    "[[binom(n,k) for k in range(n+1)] for n in range(11)]"
   ]
  },
  {
   "cell_type": "markdown",
   "metadata": {},
   "source": [
    "#### Avec la fonction factorielle et la formule"
   ]
  },
  {
   "cell_type": "code",
   "execution_count": 16,
   "metadata": {},
   "outputs": [],
   "source": [
    "def fact(n):\n",
    "    assert n >= 0, 'n doit être positif ou nul'\n",
    "    if n == 0:\n",
    "        return 1\n",
    "    else:\n",
    "        return n * fact(n-1)"
   ]
  },
  {
   "cell_type": "code",
   "execution_count": 20,
   "metadata": {},
   "outputs": [],
   "source": [
    "def binom2(n,k):\n",
    "    assert n >= 1, 'n doit être supérieur à 1'\n",
    "    assert k <= n, 'k doit être inférieur ou égal à n'\n",
    "    return fact(n)//(fact(k) * fact(n-k))"
   ]
  },
  {
   "cell_type": "code",
   "execution_count": 21,
   "metadata": {},
   "outputs": [
    {
     "data": {
      "text/plain": [
       "[[1, 1],\n",
       " [1, 2, 1],\n",
       " [1, 3, 3, 1],\n",
       " [1, 4, 6, 4, 1],\n",
       " [1, 5, 10, 10, 5, 1],\n",
       " [1, 6, 15, 20, 15, 6, 1],\n",
       " [1, 7, 21, 35, 35, 21, 7, 1],\n",
       " [1, 8, 28, 56, 70, 56, 28, 8, 1],\n",
       " [1, 9, 36, 84, 126, 126, 84, 36, 9, 1],\n",
       " [1, 10, 45, 120, 210, 252, 210, 120, 45, 10, 1]]"
      ]
     },
     "execution_count": 21,
     "metadata": {},
     "output_type": "execute_result"
    }
   ],
   "source": [
    "[[binom2(n,k) for k in range(n+1)] for n in range(1,11)]"
   ]
  },
  {
   "cell_type": "markdown",
   "metadata": {},
   "source": [
    "[Retour au sommaire](#sommaire)"
   ]
  },
  {
   "cell_type": "markdown",
   "metadata": {},
   "source": [
    "### 2. Générer des permutations d'une liste<a id=\"exemple-2\"></a>\n",
    "\n",
    "#### En trichant un peu"
   ]
  },
  {
   "cell_type": "code",
   "execution_count": 4,
   "metadata": {},
   "outputs": [
    {
     "name": "stdout",
     "output_type": "stream",
     "text": [
      "[1, 2, 3, 4, 5, 6, 7, 8, 9, 10]\n",
      "[6, 8, 9, 1, 2, 4, 5, 3, 10, 7]\n"
     ]
    }
   ],
   "source": [
    "import random\n",
    "L = list(range(1,11))\n",
    "print(L)\n",
    "random.shuffle(L)\n",
    "print(L)"
   ]
  },
  {
   "cell_type": "markdown",
   "metadata": {},
   "source": [
    "#### Avec un algorithme"
   ]
  },
  {
   "cell_type": "code",
   "execution_count": 11,
   "metadata": {},
   "outputs": [],
   "source": [
    "import random\n",
    "def permute(liste):\n",
    "    res = []\n",
    "    while liste:\n",
    "        i = random.randint(0,len(liste)-1)\n",
    "        res.append(liste.pop(i))\n",
    "    return res"
   ]
  },
  {
   "cell_type": "code",
   "execution_count": 18,
   "metadata": {},
   "outputs": [
    {
     "data": {
      "text/plain": [
       "[1, 2, 6, 10, 7, 9, 3, 5, 8, 4]"
      ]
     },
     "execution_count": 18,
     "metadata": {},
     "output_type": "execute_result"
    }
   ],
   "source": [
    "L = list(range(1,11))\n",
    "permute(L)"
   ]
  },
  {
   "cell_type": "markdown",
   "metadata": {},
   "source": [
    "[Retour au sommaire](#sommaire)"
   ]
  },
  {
   "cell_type": "markdown",
   "metadata": {},
   "source": [
    "#### Un algorithme récursif pour générer toutes les permutations"
   ]
  },
  {
   "cell_type": "code",
   "execution_count": 19,
   "metadata": {},
   "outputs": [],
   "source": [
    "def permutations(liste):\n",
    "    if len(liste) <= 1:\n",
    "        return [liste]\n",
    "    else:\n",
    "        res = []\n",
    "        for lettre in liste:\n",
    "            sousliste = liste[:]\n",
    "            sousliste.remove(lettre)\n",
    "            res.extend([[lettre] + p for p in permutations(sousliste)])\n",
    "        return res"
   ]
  },
  {
   "cell_type": "code",
   "execution_count": 21,
   "metadata": {},
   "outputs": [
    {
     "data": {
      "text/plain": [
       "[[1, 2, 3, 4],\n",
       " [1, 2, 4, 3],\n",
       " [1, 3, 2, 4],\n",
       " [1, 3, 4, 2],\n",
       " [1, 4, 2, 3],\n",
       " [1, 4, 3, 2],\n",
       " [2, 1, 3, 4],\n",
       " [2, 1, 4, 3],\n",
       " [2, 3, 1, 4],\n",
       " [2, 3, 4, 1],\n",
       " [2, 4, 1, 3],\n",
       " [2, 4, 3, 1],\n",
       " [3, 1, 2, 4],\n",
       " [3, 1, 4, 2],\n",
       " [3, 2, 1, 4],\n",
       " [3, 2, 4, 1],\n",
       " [3, 4, 1, 2],\n",
       " [3, 4, 2, 1],\n",
       " [4, 1, 2, 3],\n",
       " [4, 1, 3, 2],\n",
       " [4, 2, 1, 3],\n",
       " [4, 2, 3, 1],\n",
       " [4, 3, 1, 2],\n",
       " [4, 3, 2, 1]]"
      ]
     },
     "execution_count": 21,
     "metadata": {},
     "output_type": "execute_result"
    }
   ],
   "source": [
    "L = [1, 2, 3, 4]\n",
    "permutations(L)"
   ]
  },
  {
   "cell_type": "markdown",
   "metadata": {},
   "source": [
    "#### Avec un algorithme itératif"
   ]
  },
  {
   "cell_type": "code",
   "execution_count": 5,
   "metadata": {},
   "outputs": [],
   "source": [
    "def permuteliste(liste):\n",
    "    p = [liste]\n",
    "    n = len(liste)\n",
    "    for k in range(0, n-1):\n",
    "        for i in range(0, len(p)):\n",
    "            z = p[i][:]\n",
    "            for c in range(0, n-k-1):\n",
    "                z.append(z.pop(k))\n",
    "                if (z not in p):\n",
    "                    p.append(z[:])\n",
    "    return p"
   ]
  },
  {
   "cell_type": "code",
   "execution_count": 6,
   "metadata": {},
   "outputs": [
    {
     "data": {
      "text/plain": [
       "[[1, 2, 3, 4],\n",
       " [2, 3, 4, 1],\n",
       " [3, 4, 1, 2],\n",
       " [4, 1, 2, 3],\n",
       " [1, 3, 4, 2],\n",
       " [1, 4, 2, 3],\n",
       " [2, 4, 1, 3],\n",
       " [2, 1, 3, 4],\n",
       " [3, 1, 2, 4],\n",
       " [3, 2, 4, 1],\n",
       " [4, 2, 3, 1],\n",
       " [4, 3, 1, 2],\n",
       " [1, 2, 4, 3],\n",
       " [2, 3, 1, 4],\n",
       " [3, 4, 2, 1],\n",
       " [4, 1, 3, 2],\n",
       " [1, 3, 2, 4],\n",
       " [1, 4, 3, 2],\n",
       " [2, 4, 3, 1],\n",
       " [2, 1, 4, 3],\n",
       " [3, 1, 4, 2],\n",
       " [3, 2, 1, 4],\n",
       " [4, 2, 1, 3],\n",
       " [4, 3, 2, 1]]"
      ]
     },
     "execution_count": 6,
     "metadata": {},
     "output_type": "execute_result"
    }
   ],
   "source": [
    "permuteliste([1, 2, 3, 4])"
   ]
  },
  {
   "cell_type": "markdown",
   "metadata": {},
   "source": [
    "#### Encore en trichant un peu"
   ]
  },
  {
   "cell_type": "code",
   "execution_count": 1,
   "metadata": {},
   "outputs": [],
   "source": [
    "import itertools\n",
    "def permutations_bis(liste):\n",
    "    return list(itertools.permutations(liste))"
   ]
  },
  {
   "cell_type": "code",
   "execution_count": 3,
   "metadata": {},
   "outputs": [
    {
     "data": {
      "text/plain": [
       "[(1, 2, 3, 4),\n",
       " (1, 2, 4, 3),\n",
       " (1, 3, 2, 4),\n",
       " (1, 3, 4, 2),\n",
       " (1, 4, 2, 3),\n",
       " (1, 4, 3, 2),\n",
       " (2, 1, 3, 4),\n",
       " (2, 1, 4, 3),\n",
       " (2, 3, 1, 4),\n",
       " (2, 3, 4, 1),\n",
       " (2, 4, 1, 3),\n",
       " (2, 4, 3, 1),\n",
       " (3, 1, 2, 4),\n",
       " (3, 1, 4, 2),\n",
       " (3, 2, 1, 4),\n",
       " (3, 2, 4, 1),\n",
       " (3, 4, 1, 2),\n",
       " (3, 4, 2, 1),\n",
       " (4, 1, 2, 3),\n",
       " (4, 1, 3, 2),\n",
       " (4, 2, 1, 3),\n",
       " (4, 2, 3, 1),\n",
       " (4, 3, 1, 2),\n",
       " (4, 3, 2, 1)]"
      ]
     },
     "execution_count": 3,
     "metadata": {},
     "output_type": "execute_result"
    }
   ],
   "source": [
    "permutations_bis([1,2,3,4])"
   ]
  },
  {
   "cell_type": "markdown",
   "metadata": {},
   "source": [
    "[Retour au sommaire](#sommaire)"
   ]
  },
  {
   "cell_type": "markdown",
   "metadata": {},
   "source": [
    "### 3. Générer les parties à 2 ou 3 éléments d'un ensemble fini<a id=\"exemple-3\"></a>\n",
    "\n",
    "#### Parties à 2 éléments"
   ]
  },
  {
   "cell_type": "code",
   "execution_count": 7,
   "metadata": {},
   "outputs": [],
   "source": [
    "def parties2(liste):\n",
    "    resultat = []\n",
    "    for i in range(len(liste)):\n",
    "        for j in range(i+1, len(liste)):\n",
    "           resultat.append([liste[i], liste[j]])\n",
    "    return resultat"
   ]
  },
  {
   "cell_type": "code",
   "execution_count": 9,
   "metadata": {},
   "outputs": [
    {
     "data": {
      "text/plain": [
       "[['a', 'b'],\n",
       " ['a', 'c'],\n",
       " ['a', 'd'],\n",
       " ['a', 'e'],\n",
       " ['b', 'c'],\n",
       " ['b', 'd'],\n",
       " ['b', 'e'],\n",
       " ['c', 'd'],\n",
       " ['c', 'e'],\n",
       " ['d', 'e']]"
      ]
     },
     "execution_count": 9,
     "metadata": {},
     "output_type": "execute_result"
    }
   ],
   "source": [
    "L = \"abcde\"\n",
    "parties2(L)"
   ]
  },
  {
   "cell_type": "markdown",
   "metadata": {},
   "source": [
    "#### Parties à 3 éléments, avec le même algorithme que ci-dessus"
   ]
  },
  {
   "cell_type": "code",
   "execution_count": 10,
   "metadata": {},
   "outputs": [],
   "source": [
    "def parties3(liste):\n",
    "    resultat = []\n",
    "    for i in range(len(liste)):\n",
    "        for j in range(i+1, len(liste)):\n",
    "            for k in range(j+1, len(liste)):\n",
    "               resultat.append([liste[i], liste[j], liste[k]])\n",
    "    return resultat"
   ]
  },
  {
   "cell_type": "code",
   "execution_count": 12,
   "metadata": {},
   "outputs": [
    {
     "data": {
      "text/plain": [
       "[['a', 'b', 'c'],\n",
       " ['a', 'b', 'd'],\n",
       " ['a', 'b', 'e'],\n",
       " ['a', 'c', 'd'],\n",
       " ['a', 'c', 'e'],\n",
       " ['a', 'd', 'e'],\n",
       " ['b', 'c', 'd'],\n",
       " ['b', 'c', 'e'],\n",
       " ['b', 'd', 'e'],\n",
       " ['c', 'd', 'e']]"
      ]
     },
     "execution_count": 12,
     "metadata": {},
     "output_type": "execute_result"
    }
   ],
   "source": [
    "L = \"abcde\"\n",
    "parties3(L)"
   ]
  },
  {
   "cell_type": "markdown",
   "metadata": {},
   "source": [
    "#### Parties à 3 éléments, en utilisant la fonction « parties2 »"
   ]
  },
  {
   "cell_type": "code",
   "execution_count": 13,
   "metadata": {},
   "outputs": [],
   "source": [
    "def parties3_bis(liste):\n",
    "    res = []\n",
    "    for k in liste:\n",
    "        liste.remove(k)\n",
    "        res.extend([[k] + i for i in parties2(liste)])\n",
    "    return res"
   ]
  },
  {
   "cell_type": "code",
   "execution_count": 14,
   "metadata": {},
   "outputs": [],
   "source": [
    "def parties3_ter(liste):\n",
    "    res = []\n",
    "    for k in liste:\n",
    "        liste.remove(k)\n",
    "        for i in parties2(liste):\n",
    "            res.append([k] + i)\n",
    "    return res"
   ]
  },
  {
   "cell_type": "code",
   "execution_count": 16,
   "metadata": {},
   "outputs": [
    {
     "data": {
      "text/plain": [
       "[['a', 'b', 'c'],\n",
       " ['a', 'b', 'd'],\n",
       " ['a', 'b', 'e'],\n",
       " ['a', 'c', 'd'],\n",
       " ['a', 'c', 'e'],\n",
       " ['a', 'd', 'e'],\n",
       " ['c', 'b', 'd'],\n",
       " ['c', 'b', 'e'],\n",
       " ['c', 'd', 'e'],\n",
       " ['e', 'b', 'd']]"
      ]
     },
     "execution_count": 16,
     "metadata": {},
     "output_type": "execute_result"
    }
   ],
   "source": [
    "L = list(\"abcde\")\n",
    "parties3_ter(L)"
   ]
  },
  {
   "cell_type": "markdown",
   "metadata": {},
   "source": [
    "[Retour au sommaire](#sommaire)"
   ]
  },
  {
   "cell_type": "markdown",
   "metadata": {},
   "source": [
    "## Suites\n",
    "\n",
    "### 4. Recherche de seuils<a id='exemple-4'></a>"
   ]
  },
  {
   "cell_type": "code",
   "execution_count": 14,
   "metadata": {},
   "outputs": [],
   "source": [
    "def seuil(u,s):\n",
    "    n = 0\n",
    "    while u(n) > s:\n",
    "        n += 1\n",
    "    return n"
   ]
  },
  {
   "cell_type": "code",
   "execution_count": 10,
   "metadata": {},
   "outputs": [],
   "source": [
    "def suite_geom(raison, u0 = 1):\n",
    "    def v(n):\n",
    "        if n == 0:\n",
    "            return u0\n",
    "        else:\n",
    "            return raison * u(n-1)\n",
    "    return v"
   ]
  },
  {
   "cell_type": "code",
   "execution_count": 16,
   "metadata": {},
   "outputs": [
    {
     "data": {
      "text/plain": [
       "116"
      ]
     },
     "execution_count": 16,
     "metadata": {},
     "output_type": "execute_result"
    }
   ],
   "source": [
    "u = suite_geom(0.9, 2)\n",
    "seuil(u, 0.00001)"
   ]
  },
  {
   "cell_type": "markdown",
   "metadata": {},
   "source": [
    "[Retour au sommaire](#sommaire)"
   ]
  },
  {
   "cell_type": "markdown",
   "metadata": {},
   "source": [
    "### 5. Approximations de réels<a id='exemple-5'></a>"
   ]
  },
  {
   "cell_type": "markdown",
   "metadata": {},
   "source": [
    "## Fonctions\n",
    "\n",
    "### 6. Méthode de Newton, méthode de la sécante<a id='exemple-6'></a>"
   ]
  },
  {
   "cell_type": "code",
   "execution_count": 43,
   "metadata": {},
   "outputs": [],
   "source": [
    "def fp(x):\n",
    "    h = 10**(-10)\n",
    "    return (f(x+h)-f(x))/h"
   ]
  },
  {
   "cell_type": "code",
   "execution_count": 48,
   "metadata": {},
   "outputs": [],
   "source": [
    "def newton(f, x0):\n",
    "    x = x0\n",
    "    n = 0\n",
    "    seuil = 10**(-6)\n",
    "    while abs(f(x)) >= seuil:\n",
    "        x = x - f(x)/fp(x)\n",
    "        n += 1\n",
    "    return x, n"
   ]
  },
  {
   "cell_type": "code",
   "execution_count": 54,
   "metadata": {},
   "outputs": [],
   "source": [
    "f = lambda x : x**3 + 2*x - 5"
   ]
  },
  {
   "cell_type": "code",
   "execution_count": 55,
   "metadata": {},
   "outputs": [
    {
     "data": {
      "text/plain": [
       "(1.3282688628783013, 4)"
      ]
     },
     "execution_count": 55,
     "metadata": {},
     "output_type": "execute_result"
    }
   ],
   "source": [
    "newton(f, 2)"
   ]
  },
  {
   "cell_type": "markdown",
   "metadata": {},
   "source": [
    "[Retour au sommaire](#sommaire)"
   ]
  },
  {
   "cell_type": "markdown",
   "metadata": {},
   "source": [
    "### 7. Méthode de dichotomie<a id='exemple-7'></a>"
   ]
  },
  {
   "cell_type": "code",
   "execution_count": 59,
   "metadata": {},
   "outputs": [],
   "source": [
    "def dichotomie(f, a, b):\n",
    "    m = (a+b)/2\n",
    "    precision = 10**(-6)\n",
    "    if abs(b - a) < precision:\n",
    "        return m\n",
    "    else:\n",
    "        if f(a)*f(m) > 0:\n",
    "            return dichotomie(f, m, b)\n",
    "        else:\n",
    "            return dichotomie(f, a, m)"
   ]
  },
  {
   "cell_type": "code",
   "execution_count": 77,
   "metadata": {},
   "outputs": [],
   "source": [
    "def dichotomie_2(f, a, b):\n",
    "    droite = a\n",
    "    gauche = b\n",
    "    m = (a+b)/2\n",
    "    precision = 10**(-6)\n",
    "    while abs(b-a) >= precision:\n",
    "        if f(droite)*f(m) > 0:\n",
    "            droite = m\n",
    "        else:\n",
    "            gauche = m\n",
    "        m = (droite+gauche)/2\n",
    "    return m"
   ]
  },
  {
   "cell_type": "code",
   "execution_count": 78,
   "metadata": {},
   "outputs": [],
   "source": [
    "f = lambda x : 3*x - 1"
   ]
  },
  {
   "cell_type": "code",
   "execution_count": 79,
   "metadata": {},
   "outputs": [
    {
     "data": {
      "text/plain": [
       "0.33333301544189453"
      ]
     },
     "execution_count": 79,
     "metadata": {},
     "output_type": "execute_result"
    }
   ],
   "source": [
    "dichotomie_2(f, 0, 2)"
   ]
  },
  {
   "cell_type": "code",
   "execution_count": 84,
   "metadata": {
    "scrolled": true
   },
   "outputs": [
    {
     "name": "stdout",
     "output_type": "stream",
     "text": [
      "CPU times: user 24 µs, sys: 0 ns, total: 24 µs\n",
      "Wall time: 27.9 µs\n"
     ]
    },
    {
     "data": {
      "text/plain": [
       "0.33333349227905273"
      ]
     },
     "execution_count": 84,
     "metadata": {},
     "output_type": "execute_result"
    }
   ],
   "source": [
    "%timeit dichotomie(f, 0, 2)"
   ]
  },
  {
   "cell_type": "code",
   "execution_count": 90,
   "metadata": {},
   "outputs": [
    {
     "name": "stdout",
     "output_type": "stream",
     "text": [
      "10.7 µs ± 602 ns per loop (mean ± std. dev. of 7 runs, 100000 loops each)\n"
     ]
    }
   ],
   "source": [
    "%timeit dichotomie_2(f, 0, 2)"
   ]
  },
  {
   "cell_type": "markdown",
   "metadata": {},
   "source": [
    "[Retour au sommaire](#sommaire)"
   ]
  },
  {
   "cell_type": "markdown",
   "metadata": {},
   "source": [
    "## Logarithme\n",
    "\n",
    "### 8. Algorithme de Briggs<a id='exemple-8'></a>"
   ]
  },
  {
   "cell_type": "code",
   "execution_count": 13,
   "metadata": {},
   "outputs": [],
   "source": [
    "from math import sqrt, log10\n",
    "def briggs(x):\n",
    "    u = 1\n",
    "    v = 10\n",
    "    log_u = 0\n",
    "    log_v = 1\n",
    "    while v-u>10**(-6):\n",
    "        if sqrt(u*v) <=x:\n",
    "            u = sqrt(u*v)\n",
    "            log_u = (log_u+log_v)/2\n",
    "            print(u,\";\",log_u)\n",
    "        else:\n",
    "            v = sqrt(u*v)\n",
    "            log_v = (log_u+log_v)/2\n",
    "            print(v,\";\",log_v)\n",
    "    return log_u"
   ]
  },
  {
   "cell_type": "code",
   "execution_count": 14,
   "metadata": {},
   "outputs": [
    {
     "name": "stdout",
     "output_type": "stream",
     "text": [
      "3.1622776601683795 ; 0.5\n",
      "5.623413251903491 ; 0.75\n",
      "7.498942093324559 ; 0.875\n",
      "8.659643233600654 ; 0.9375\n",
      "9.30572040929699 ; 0.96875\n",
      "8.976871324473143 ; 0.953125\n",
      "9.139816994654906 ; 0.9609375\n",
      "9.057977759425661 ; 0.95703125\n",
      "9.017333353397984 ; 0.955078125\n",
      "8.99707959303093 ; 0.9541015625\n",
      "9.007200780343146 ; 0.95458984375\n",
      "9.002138764269166 ; 0.954345703125\n",
      "8.999608823145525 ; 0.9542236328125\n",
      "9.000873704818725 ; 0.95428466796875\n",
      "9.00024124176153 ; 0.954254150390625\n",
      "8.999925026898575 ; 0.9542388916015625\n",
      "9.00008313294129 ; 0.9542465209960938\n",
      "9.000004079572745 ; 0.9542427062988281\n",
      "8.999964553148864 ; 0.9542407989501953\n",
      "8.999984316339106 ; 0.9542417526245117\n",
      "8.9999941979505 ; 0.9542422294616699\n",
      "8.999999138760266 ; 0.954242467880249\n",
      "9.000001609166167 ; 0.9542425870895386\n",
      "9.000000373963132 ; 0.9542425274848938\n",
      "8.999999756361678 ; 0.9542424976825714\n"
     ]
    },
    {
     "data": {
      "text/plain": [
       "(0.9542424976825714, 0.9542425094393249)"
      ]
     },
     "execution_count": 14,
     "metadata": {},
     "output_type": "execute_result"
    }
   ],
   "source": [
    "briggs(9),log10(9)"
   ]
  },
  {
   "cell_type": "markdown",
   "metadata": {},
   "source": [
    "[Retour au sommaire](#sommaire)"
   ]
  },
  {
   "cell_type": "code",
   "execution_count": null,
   "metadata": {},
   "outputs": [],
   "source": []
  }
 ],
 "metadata": {
  "kernelspec": {
   "display_name": "Python 3 (ipykernel)",
   "language": "python",
   "name": "python3"
  },
  "language_info": {
   "codemirror_mode": {
    "name": "ipython",
    "version": 3
   },
   "file_extension": ".py",
   "mimetype": "text/x-python",
   "name": "python",
   "nbconvert_exporter": "python",
   "pygments_lexer": "ipython3",
   "version": "3.9.13"
  }
 },
 "nbformat": 4,
 "nbformat_minor": 4
}
