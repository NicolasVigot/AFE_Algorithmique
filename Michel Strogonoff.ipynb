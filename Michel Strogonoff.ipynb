{
 "cells": [
  {
   "cell_type": "markdown",
   "metadata": {},
   "source": [
    "# Le pauvre veuf Michel Strogonoff\n",
    "\n",
    "Michel Strogonoff était veuf, mais il était beau. Pour d'obscures raisons, il décida de partir à l'aventure, sans un kopek en poche, à travers les étendues infinies de la Sibérie.\n",
    "\n",
    "Las, à peine avait-il parcouru une verste[1] qu'il rencontra un ermite qui lui dit comme ça :\n",
    "- *« Michel Strogonoff, donne-moi un rouble ou tu t'en repentiras ! »*\n",
    "- *« Mais, mon pauvre ermite, je suis trop pauvre, je ne peux pas te donner un rouble. »*\n",
    "- *« Puisque c'est comme ça, répliqua l'ermite, c'est moi qui vais te donner un rouble. Tiens ! »*\n",
    "\n",
    "Michel Strogonoff était un peu surpris, mais content. Il repris sa route avec un rouble en poche. Une verste plus loin, nouvel ermite, même tableau :\n",
    "- *« Michel Strogonoff, donne-moi deux roubles ou tu t'en repentiras ! »*\n",
    "- *« Mais, mon pauvre ermite, je suis trop pauvre, je ne peux pas te donner deux roubles. »*\n",
    "- *« Puisque c'est comme ça, répliqua l'ermite, c'est moi qui vais te donner deux roubles. Tiens ! »*\n",
    "\n",
    "Michel Strogonoff était toujours un peu surpris, mais de plus en plus content. Il repris sa route avec maintenant trois roubles en poche.\n",
    "Et, à la fin de la troisième verste, ça recommence avec un troisième ermite :\n",
    "- *« Michel Strogonoff, donne-moi trois roubles ou tu t'en repentiras ! »*\n",
    "- *« Tiens, mon pauvre ermite. Je me réjouis de pouvoir soulager ta misère ! »*\n",
    "\n",
    "Et Michel Strogonoff lui donna ses trois roubles et repris sa route, la bourse vide, à la fois surpris et content, car un rien l'étonnait et c'était un heureux caractère.\n",
    "\n",
    "Et ça continue comme ça : à la fin de la $n$-ième verste, un ermite lui demande $n$ roubles. Si Michel Strogonoff les possède, il les lui donne, sinon c'est l'ermite qui lui donne $n$ roubles.\n",
    "\n",
    "1. Quelle est la somme en la possession de Michel Strogonoff après 10 verstes?\n",
    "2. Quelle est la somme en la possession de Michel Strogonoff après avoir parcouru 2024 verstes et rencontré 2024 ermites ?\n",
    "3. Quelle distance doit parcourir Michel Strogonoff pour posséder exactement 2024 roubles ?\n",
    "4. Après avoir parcouru cette distance, combien Michel Strogonoff a-t-il pu payer d'ermites ?\n",
    "5. Et si Michel Strogonoff avait été riche ? Déterminer, en fonction de la somme $S$ dont il dispose, le numéro du premier ermite qu'il ne pourra pas payer.\n",
    "\n",
    "*(D'après un exercice des Olympiades de Mathématiques.)*\n",
    "\n",
    "*[1] Une verste est une ancienne unité de mesure des distances utilisée en Russie. Une verste représente environ 1067 mètres.*"
   ]
  },
  {
   "cell_type": "code",
   "execution_count": null,
   "metadata": {},
   "outputs": [],
   "source": [
    "def strogonoff(n):\n",
    "    poche = 0\n",
    "    for verste in range(1,n+1):\n",
    "        if poche < verste:\n",
    "            poche += verste\n",
    "        else:\n",
    "            poche -= verste\n",
    "    return poche"
   ]
  },
  {
   "cell_type": "code",
   "execution_count": null,
   "metadata": {},
   "outputs": [],
   "source": [
    "[strogonoff(n) for n in range(11)]"
   ]
  },
  {
   "cell_type": "code",
   "execution_count": null,
   "metadata": {},
   "outputs": [],
   "source": [
    "strogonoff(2024)"
   ]
  },
  {
   "cell_type": "code",
   "execution_count": null,
   "metadata": {},
   "outputs": [],
   "source": [
    "import matplotlib.pyplot as plt\n",
    "\n",
    "def graphique(n):\n",
    "    X = list(range(1, n+1))\n",
    "    Y = [strogonoff(i) for i in X]\n",
    "    plt.figure(figsize=(20,10))\n",
    "    plt.xlabel('Verstes')\n",
    "    plt.ylabel('Roubles')\n",
    "    plt.plot(X, Y, \"b+\")\n",
    "    plt.grid()"
   ]
  },
  {
   "cell_type": "code",
   "execution_count": null,
   "metadata": {},
   "outputs": [],
   "source": [
    "graphique(100)"
   ]
  },
  {
   "cell_type": "code",
   "execution_count": null,
   "metadata": {},
   "outputs": [],
   "source": []
  }
 ],
 "metadata": {
  "kernelspec": {
   "display_name": "base",
   "language": "python",
   "name": "python3"
  },
  "language_info": {
   "codemirror_mode": {
    "name": "ipython",
    "version": 3
   },
   "file_extension": ".py",
   "mimetype": "text/x-python",
   "name": "python",
   "nbconvert_exporter": "python",
   "pygments_lexer": "ipython3",
   "version": "3.9.13"
  }
 },
 "nbformat": 4,
 "nbformat_minor": 2
}
