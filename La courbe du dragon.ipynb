{
 "cells": [
  {
   "cell_type": "markdown",
   "metadata": {},
   "source": [
    "# Définition et algorithme de construction"
   ]
  },
  {
   "cell_type": "markdown",
   "metadata": {},
   "source": [
    "La figure ci-dessous représente la courbe de Heighway (du nom du physicien de la NASA qui l'a étudiée en premier). Elle est aussi nommée *courbe du dragon* en raison de sa ressemblance avec cet animal. \n",
    "\n",
    "<img src=\"https://github.com/NicolasVigot/AFE_Vientiane/blob/main/courbe_dragon.png?raw=true\" alt=\"courbe du gragon\" width=\"600px\">"
   ]
  },
  {
   "cell_type": "markdown",
   "metadata": {},
   "source": [
    "**L'algorithme de construction** est simple : \n",
    "- Vous partez d'une bande de papier.\n",
    "- Vous pliez cette bande en deux parties égales. \n",
    "- Vous repliez à nouveau la bande en deux parties égales, en la pliant dans le même sens. \n",
    "- Vous recommencez l'étape précédente autant que possible. \n",
    "- Vous dépliez la bande de papier, en prenant soin d'ouvir chaque pli à angle droit. \n",
    "\n",
    "<img src=\"https://github.com/NicolasVigot/AFE_Vientiane/blob/main/pliages.png?raw=true\" alt=\"pliages\" width=\"600px\">\n",
    "\n",
    "<img src=\"https://github.com/NicolasVigot/AFE_Vientiane/blob/main/e%CC%81tapes.png?raw=true\" alt=\"étapes\" width=\"600px\">"
   ]
  },
  {
   "cell_type": "markdown",
   "metadata": {},
   "source": [
    "# Construction par L-système\n",
    "\n",
    "Un L-système est un algorithme de réécriture d'une chaine de caractère. On peut à l'aide d'un tel système générer une chaîne qui va représenter la courbe du dragon à n'importe quelle étape. "
   ]
  },
  {
   "cell_type": "code",
   "execution_count": null,
   "metadata": {},
   "outputs": [],
   "source": [
    "def miroir(mot):\n",
    "    mot_miroir=\"\"\n",
    "    for lettre in mot:\n",
    "        if lettre==\"D\":\n",
    "            mot_miroir=\"G\"+mot_miroir\n",
    "        else:\n",
    "            mot_miroir=\"D\"+mot_miroir\n",
    "    return mot_miroir"
   ]
  },
  {
   "cell_type": "code",
   "execution_count": null,
   "metadata": {},
   "outputs": [],
   "source": [
    "def dragon(n):\n",
    "    chaine=\"\"\n",
    "    for k in range(n):\n",
    "        chaine=chaine+\"D\"+miroir(chaine)\n",
    "    return chaine"
   ]
  },
  {
   "cell_type": "code",
   "execution_count": null,
   "metadata": {},
   "outputs": [],
   "source": [
    "import turtle as tl\n",
    "\n",
    "def trace(n,l):\n",
    "    tl.reset()\n",
    "    tl.pencolor(\"red\")\n",
    "    tl.speed(0)\n",
    "    tl.penup()\n",
    "    tl.goto(0,-100)\n",
    "    tl.pendown()\n",
    "    for lettre in dragon(n):\n",
    "        tl.forward(l)\n",
    "        if lettre==\"D\":\n",
    "            tl.right(90)\n",
    "        else:\n",
    "            tl.left(90)\n",
    "    tl.done()"
   ]
  },
  {
   "cell_type": "code",
   "execution_count": null,
   "metadata": {},
   "outputs": [],
   "source": [
    "trace(8,20)"
   ]
  },
  {
   "cell_type": "markdown",
   "metadata": {},
   "source": [
    "# Construction récursive"
   ]
  },
  {
   "cell_type": "code",
   "execution_count": null,
   "metadata": {},
   "outputs": [],
   "source": [
    "import turtle as tl\n",
    "from math import sqrt\n",
    "\n",
    "def dragon(l, n, s):\n",
    "    if n == 0:\n",
    "        tl.forward(l)\n",
    "    else:\n",
    "        tl.right(s*45)\n",
    "        dragon(l/sqrt(2), n-1, 1)\n",
    "        tl.left(s*90)\n",
    "        dragon(l/sqrt(2), n-1, -1)\n",
    "        tl.right(s*45)\n",
    "\n",
    "def courbe(l, n):\n",
    "    tl.reset()\n",
    "    tl.color(\"blue\")\n",
    "    tl.speed(0)\n",
    "    dragon(l, n, 1)\n",
    "    tl.done()"
   ]
  },
  {
   "cell_type": "code",
   "execution_count": null,
   "metadata": {},
   "outputs": [],
   "source": [
    "courbe(50,10)"
   ]
  },
  {
   "cell_type": "code",
   "execution_count": null,
   "metadata": {},
   "outputs": [],
   "source": []
  }
 ],
 "metadata": {
  "kernelspec": {
   "display_name": "base",
   "language": "python",
   "name": "python3"
  },
  "language_info": {
   "codemirror_mode": {
    "name": "ipython",
    "version": 3
   },
   "file_extension": ".py",
   "mimetype": "text/x-python",
   "name": "python",
   "nbconvert_exporter": "python",
   "pygments_lexer": "ipython3",
   "version": "3.9.13"
  }
 },
 "nbformat": 4,
 "nbformat_minor": 2
}
