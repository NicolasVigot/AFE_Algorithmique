{
 "cells": [
  {
   "cell_type": "markdown",
   "id": "29a92e36",
   "metadata": {},
   "source": [
    "# Mon notebook d'algorithmique au lycée"
   ]
  },
  {
   "cell_type": "markdown",
   "id": "99e68751",
   "metadata": {},
   "source": [
    "## Contexte d'utilisation\n",
    "[Carte mentale](https://xmind.app/m/fkdfHB)\n",
    "\n",
    "Construire une progression sur **quatre axes** : \n",
    "- Progression des supports : passer d'une programmation par blocs à une programmation textuelle. Commencer par une séquence sur les défis géométriques avec [vittascience](https://fr.vittascience.com/). \n",
    "- Progression des notions : réactiver les notions vues au collèges, introduire les notions à voir au lycée (fonctions et listes) ;\n",
    "- Progression des savoir-faire : **expliquer**, **compléter**, **tester**, **modifier**, **écrire**.\n",
    "- Progression des activités : articuler les activités proposées avec la progression en mathématiques, les notions et les savoir-faire.\n",
    "\n",
    "### Ressources exploitables\n",
    "- [Pour les défis géométriques](https://cache.media.education.gouv.fr/file/Initiation_a_la_programmation/91/6/RA16_C2_C3_MATH_annexe_5_4_scratch_figures_geo_624916.pdf) ;\n",
    "- [Pour des activités liées au programme](https://eduscol.education.fr/1723/programmes-et-ressources-en-mathematiques-voie-gt) ;\n",
    "- Les algorithmes des programmes de [seconde](https://notebook.basthon.fr/?from=https://raw.githubusercontent.com/NicolasVigot/AFE_Vientiane/main/Les%20algorithmes%20du%20programme%20de%20seconde.ipynb), [première](https://notebook.basthon.fr/?from=https://raw.githubusercontent.com/NicolasVigot/AFE_Vientiane/main/Les%20algorithmes%20du%20programme%20de%20premie%CC%80re.ipynb), [terminale](https://notebook.basthon.fr/). \n",
    "\n",
    "### Des outils\n",
    "- [Basthon](https://basthon.fr/)\n",
    "- [PythonTutor](https://pythontutor.com/)\n",
    "- [GitHub](https://github.com/)"
   ]
  },
  {
   "cell_type": "markdown",
   "id": "68dc384b",
   "metadata": {},
   "source": [
    "## Les structures de programmation en Python"
   ]
  },
  {
   "cell_type": "markdown",
   "id": "5b94a1e1",
   "metadata": {},
   "source": [
    "### 1. Les variables"
   ]
  },
  {
   "cell_type": "code",
   "execution_count": 1,
   "id": "9bdf49a2",
   "metadata": {},
   "outputs": [],
   "source": [
    "a = 3\n",
    "b = 4"
   ]
  },
  {
   "cell_type": "code",
   "execution_count": 3,
   "id": "bfacf4d8",
   "metadata": {},
   "outputs": [
    {
     "data": {
      "text/plain": [
       "12"
      ]
     },
     "execution_count": 3,
     "metadata": {},
     "output_type": "execute_result"
    }
   ],
   "source": [
    "c = 3*4\n",
    "c"
   ]
  },
  {
   "cell_type": "code",
   "execution_count": 5,
   "id": "ea5c6688",
   "metadata": {},
   "outputs": [
    {
     "name": "stdout",
     "output_type": "stream",
     "text": [
      "93\n"
     ]
    }
   ],
   "source": [
    "d = a**b + c\n",
    "print(d)"
   ]
  },
  {
   "cell_type": "code",
   "execution_count": 6,
   "id": "adbcd15a",
   "metadata": {},
   "outputs": [
    {
     "data": {
      "text/plain": [
       "(23, 1)"
      ]
     },
     "execution_count": 6,
     "metadata": {},
     "output_type": "execute_result"
    }
   ],
   "source": [
    "d // b, d % b"
   ]
  },
  {
   "cell_type": "code",
   "execution_count": 16,
   "id": "3fbfc993",
   "metadata": {},
   "outputs": [
    {
     "name": "stdout",
     "output_type": "stream",
     "text": [
      "Demain, dès l'aube, à l'heure où blanchi la campagne,\n"
     ]
    }
   ],
   "source": [
    "PremierePartie = \"Demain, dès l'aube,\"\n",
    "SecondePartie = \" à l'heure où blanchi la campagne,\"\n",
    "Strophe = PremierePartie + SecondePartie\n",
    "print(Strophe)"
   ]
  },
  {
   "cell_type": "markdown",
   "id": "0fcab855",
   "metadata": {},
   "source": [
    "### 2. Les boucles\n",
    "\n",
    "#### 2.1 Boucles bornées"
   ]
  },
  {
   "cell_type": "code",
   "execution_count": 18,
   "id": "b82fa509",
   "metadata": {},
   "outputs": [
    {
     "name": "stdout",
     "output_type": "stream",
     "text": [
      "0\n",
      "1\n",
      "2\n",
      "3\n",
      "4\n",
      "5\n",
      "6\n",
      "7\n",
      "8\n",
      "9\n"
     ]
    }
   ],
   "source": [
    "for k in range(10):\n",
    "    print(k)"
   ]
  },
  {
   "cell_type": "markdown",
   "id": "993cb25b",
   "metadata": {},
   "source": [
    "**Remarque** : on notera au passage que les bornes de l'objet `range(n)` sont $[0;n[$."
   ]
  },
  {
   "cell_type": "code",
   "execution_count": 19,
   "id": "3331f22e",
   "metadata": {},
   "outputs": [
    {
     "name": "stdout",
     "output_type": "stream",
     "text": [
      "1\n",
      "2\n",
      "3\n",
      "4\n",
      "5\n",
      "6\n",
      "7\n",
      "8\n",
      "9\n",
      "10\n"
     ]
    }
   ],
   "source": [
    "for k in range(1,11):\n",
    "    print(k)"
   ]
  },
  {
   "cell_type": "markdown",
   "id": "860c42fd",
   "metadata": {},
   "source": [
    "#### 2.2 Boucle non bornées"
   ]
  },
  {
   "cell_type": "code",
   "execution_count": 20,
   "id": "d92cc6e4",
   "metadata": {},
   "outputs": [
    {
     "name": "stdout",
     "output_type": "stream",
     "text": [
      "8.0\n",
      "6.4\n",
      "5.120000000000001\n",
      "4.096000000000001\n",
      "3.276800000000001\n",
      "2.621440000000001\n",
      "2.097152000000001\n",
      "1.6777216000000008\n",
      "1.3421772800000007\n",
      "1.0737418240000005\n",
      "0.8589934592000005\n"
     ]
    }
   ],
   "source": [
    "a = 10\n",
    "while a > 1:\n",
    "    a = 0.8 * a\n",
    "    print(a)"
   ]
  },
  {
   "cell_type": "markdown",
   "id": "b489f334",
   "metadata": {},
   "source": [
    "### 3. Tester des conditions"
   ]
  },
  {
   "cell_type": "code",
   "execution_count": 24,
   "id": "b42d7da7",
   "metadata": {},
   "outputs": [
    {
     "name": "stdout",
     "output_type": "stream",
     "text": [
      "Le nombre 1 est impair\n",
      "Le nombre 2 est pair\n",
      "Le nombre 3 est impair\n",
      "Le nombre 4 est pair\n",
      "Le nombre 5 est impair\n",
      "Le nombre 6 est pair\n",
      "Le nombre 7 est impair\n",
      "Le nombre 8 est pair\n",
      "Le nombre 9 est impair\n",
      "Le nombre 10 est pair\n"
     ]
    }
   ],
   "source": [
    "for nombre in range(1,11):\n",
    "    if nombre % 2 == 0:\n",
    "        print(\"Le nombre {} est pair\".format(nombre))\n",
    "    else:\n",
    "        print(\"Le nombre {} est impair\".format(nombre))"
   ]
  },
  {
   "cell_type": "code",
   "execution_count": 26,
   "id": "5f43bff7",
   "metadata": {},
   "outputs": [
    {
     "name": "stdout",
     "output_type": "stream",
     "text": [
      "L'année 2000 est bissextile\n",
      "L'année 2001 n'est pas bissextile\n",
      "L'année 2002 n'est pas bissextile\n",
      "L'année 2003 n'est pas bissextile\n",
      "L'année 2004 est bissextile\n",
      "L'année 2005 n'est pas bissextile\n",
      "L'année 2006 n'est pas bissextile\n",
      "L'année 2007 n'est pas bissextile\n",
      "L'année 2008 est bissextile\n",
      "L'année 2009 n'est pas bissextile\n",
      "L'année 2010 n'est pas bissextile\n",
      "L'année 2011 n'est pas bissextile\n",
      "L'année 2012 est bissextile\n",
      "L'année 2013 n'est pas bissextile\n",
      "L'année 2014 n'est pas bissextile\n",
      "L'année 2015 n'est pas bissextile\n",
      "L'année 2016 est bissextile\n",
      "L'année 2017 n'est pas bissextile\n",
      "L'année 2018 n'est pas bissextile\n",
      "L'année 2019 n'est pas bissextile\n",
      "L'année 2020 est bissextile\n",
      "L'année 2021 n'est pas bissextile\n",
      "L'année 2022 n'est pas bissextile\n",
      "L'année 2023 n'est pas bissextile\n",
      "L'année 2024 est bissextile\n",
      "L'année 2025 n'est pas bissextile\n",
      "L'année 2026 n'est pas bissextile\n",
      "L'année 2027 n'est pas bissextile\n",
      "L'année 2028 est bissextile\n",
      "L'année 2029 n'est pas bissextile\n"
     ]
    }
   ],
   "source": [
    "for annee in range(2000,2030):\n",
    "    if annee % 4 == 0:\n",
    "        print(\"L'année {} est bissextile\".format(annee))\n",
    "    else:\n",
    "        print(\"L'année {} n'est pas bissextile\".format(annee))"
   ]
  },
  {
   "cell_type": "markdown",
   "id": "efbe54df",
   "metadata": {},
   "source": [
    "On peut aussi imbriquer des conditions :"
   ]
  },
  {
   "cell_type": "code",
   "execution_count": 27,
   "id": "3236b9a5",
   "metadata": {},
   "outputs": [
    {
     "name": "stdout",
     "output_type": "stream",
     "text": [
      "L'année 0 est bissextile\n",
      "L'année 100 n'est pas bissextile\n",
      "L'année 200 n'est pas bissextile\n",
      "L'année 300 n'est pas bissextile\n",
      "L'année 400 est bissextile\n",
      "L'année 500 n'est pas bissextile\n",
      "L'année 600 n'est pas bissextile\n",
      "L'année 700 n'est pas bissextile\n",
      "L'année 800 est bissextile\n",
      "L'année 900 n'est pas bissextile\n",
      "L'année 1000 n'est pas bissextile\n",
      "L'année 1100 n'est pas bissextile\n",
      "L'année 1200 est bissextile\n",
      "L'année 1300 n'est pas bissextile\n",
      "L'année 1400 n'est pas bissextile\n",
      "L'année 1500 n'est pas bissextile\n",
      "L'année 1600 est bissextile\n",
      "L'année 1700 n'est pas bissextile\n",
      "L'année 1800 n'est pas bissextile\n",
      "L'année 1900 n'est pas bissextile\n"
     ]
    }
   ],
   "source": [
    "for annee in range(0,2000,100):\n",
    "    if annee % 400 == 0:\n",
    "        print(\"L'année {} est bissextile\".format(annee))\n",
    "    elif annee % 100 == 0:\n",
    "        print(\"L'année {} n'est pas bissextile\".format(annee))\n",
    "    elif annee % 4 == 0:\n",
    "        print(\"L'année {} est bissextile\".format(annee))\n",
    "    else:\n",
    "        print(\"L'année {} n'est pas bissextile\".format(annee))"
   ]
  },
  {
   "cell_type": "markdown",
   "id": "74c3ef47",
   "metadata": {},
   "source": [
    "### 4. Les fonctions"
   ]
  },
  {
   "cell_type": "code",
   "execution_count": 28,
   "id": "2368e3a0",
   "metadata": {},
   "outputs": [],
   "source": [
    "def f(x):\n",
    "    return x**2 + 2*x + 1"
   ]
  },
  {
   "cell_type": "code",
   "execution_count": 30,
   "id": "faca538e",
   "metadata": {},
   "outputs": [
    {
     "data": {
      "text/plain": [
       "[[0, 1],\n",
       " [1, 4],\n",
       " [2, 9],\n",
       " [3, 16],\n",
       " [4, 25],\n",
       " [5, 36],\n",
       " [6, 49],\n",
       " [7, 64],\n",
       " [8, 81],\n",
       " [9, 100],\n",
       " [10, 121]]"
      ]
     },
     "execution_count": 30,
     "metadata": {},
     "output_type": "execute_result"
    }
   ],
   "source": [
    "[[x,f(x)] for x in range(11)]"
   ]
  },
  {
   "cell_type": "markdown",
   "id": "0eaf0425",
   "metadata": {},
   "source": [
    "## Activités pour la classe de Seconde\n",
    "\n",
    "- **Séquence 1** manipuler les nombres réels -  [Déterminer un encadrement de $\\sqrt{2}$](https://notebook.basthon.fr/?from=https://raw.githubusercontent.com/NicolasVigot/AFE_Vientiane/main/Encadrement%20de%20racine(2).ipynb)\n",
    "- **Séquence 2**\n"
   ]
  },
  {
   "cell_type": "markdown",
   "id": "edb19a66",
   "metadata": {},
   "source": [
    "## Activités pour la classe de Première"
   ]
  },
  {
   "cell_type": "markdown",
   "id": "f381baca",
   "metadata": {},
   "source": [
    "## Activités pour la classe de Terminale"
   ]
  }
 ],
 "metadata": {
  "kernelspec": {
   "display_name": "Python 3 (ipykernel)",
   "language": "python",
   "name": "python3"
  },
  "language_info": {
   "codemirror_mode": {
    "name": "ipython",
    "version": 3
   },
   "file_extension": ".py",
   "mimetype": "text/x-python",
   "name": "python",
   "nbconvert_exporter": "python",
   "pygments_lexer": "ipython3",
   "version": "3.9.13"
  }
 },
 "nbformat": 4,
 "nbformat_minor": 5
}
