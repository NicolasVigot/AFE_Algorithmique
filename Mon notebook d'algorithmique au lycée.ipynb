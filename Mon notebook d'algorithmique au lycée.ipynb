{
 "cells": [
  {
   "cell_type": "markdown",
   "id": "29a92e36",
   "metadata": {},
   "source": [
    "# Mon notebook d'algorithmique au lycée"
   ]
  },
  {
   "cell_type": "markdown",
   "id": "99e68751",
   "metadata": {},
   "source": [
    "## Contexte d'utilisation\n",
    "[Carte mentale](https://xmind.app/m/fkdfHB)\n",
    "\n",
    "Construire une progression sur **quatre axes** : \n",
    "- Progression des supports : passer d'une programmation par blocs à une programmation textuelle. Commencer par une séquence sur les défis géométriques avec [vittascience](https://fr.vittascience.com/). \n",
    "- Progression des notions : réactiver les notions vues au collèges, introduire les notions à voir au lycée (fonctions et listes) ;\n",
    "- Progression des savoir-faire : **expliquer**, **compléter**, **tester**, **modifier**, **écrire**.\n",
    "- Progression des activités : articuler les activités proposées avec la progression en mathématiques, les notions et les savoir-faire.\n",
    "\n",
    "### Ressources exploitables\n",
    "- [Pour les défis géométriques](https://cache.media.education.gouv.fr/file/Initiation_a_la_programmation/91/6/RA16_C2_C3_MATH_annexe_5_4_scratch_figures_geo_624916.pdf) ;\n",
    "- [Pour des activités liées au programme](https://eduscol.education.fr/1723/programmes-et-ressources-en-mathematiques-voie-gt) ;\n",
    "- Les algorithmes des programmes de [seconde](https://notebook.basthon.fr/?from=https://raw.githubusercontent.com/NicolasVigot/AFE_Vientiane/main/Les%20algorithmes%20du%20programme%20de%20seconde.ipynb), [première](https://notebook.basthon.fr/?from=https://raw.githubusercontent.com/NicolasVigot/AFE_Vientiane/main/Les%20algorithmes%20du%20programme%20de%20premie%CC%80re.ipynb), [terminale](https://notebook.basthon.fr/). \n",
    "\n",
    "### Des outils\n",
    "- [Basthon](https://basthon.fr/)\n",
    "- [PythonTutor](https://pythontutor.com/)\n",
    "- [GitHub](https://github.com/)"
   ]
  },
  {
   "cell_type": "markdown",
   "id": "68dc384b",
   "metadata": {},
   "source": [
    "## Les structures de programmation en Python"
   ]
  },
  {
   "cell_type": "markdown",
   "id": "5b94a1e1",
   "metadata": {},
   "source": [
    "### Les variables"
   ]
  },
  {
   "cell_type": "markdown",
   "id": "0fcab855",
   "metadata": {},
   "source": [
    "### Les boucles"
   ]
  },
  {
   "cell_type": "markdown",
   "id": "b489f334",
   "metadata": {},
   "source": [
    "### Tester des conditions"
   ]
  },
  {
   "cell_type": "markdown",
   "id": "74c3ef47",
   "metadata": {},
   "source": [
    "### Les fonctions"
   ]
  },
  {
   "cell_type": "markdown",
   "id": "0eaf0425",
   "metadata": {},
   "source": [
    "## Activités pour la classe de Seconde\n",
    "\n",
    "<table border=\"1\">\n",
    "    <thead>\n",
    "        <tr>\n",
    "            <th>Numéro de Séquence</th>\n",
    "            <th>Contenu</th>\n",
    "            <th>Activité algorithmique</th>\n",
    "        </tr>\n",
    "    </thead>\n",
    "    <tbody>\n",
    "        <tr>\n",
    "            <td>1</td>\n",
    "            <td>Manipuler les nombres réels</td>\n",
    "            <td>Déterminer un encadrement de $\\sqrt{2}$</td>\n",
    "        </tr>\n",
    "        <tr>\n",
    "            <td>Ligne 2, Colonne 1</td>\n",
    "            <td>Ligne 2, Colonne 2</td>\n",
    "            <td>Ligne 2, Colonne 3</td>\n",
    "        </tr>\n",
    "        <tr>\n",
    "            <td>Ligne 3, Colonne 1</td>\n",
    "            <td>Ligne 3, Colonne 2</td>\n",
    "            <td>Ligne 3, Colonne 3</td>\n",
    "        </tr>\n",
    "    </tbody>\n",
    "</table>\n",
    "\n",
    "</body>\n",
    "</html>\n"
   ]
  },
  {
   "cell_type": "markdown",
   "id": "edb19a66",
   "metadata": {},
   "source": [
    "## Activités pour la classe de Première"
   ]
  },
  {
   "cell_type": "markdown",
   "id": "f381baca",
   "metadata": {},
   "source": [
    "## Activités pour la classe de Terminale"
   ]
  },
  {
   "cell_type": "code",
   "execution_count": null,
   "id": "ce7244a4",
   "metadata": {},
   "outputs": [],
   "source": []
  }
 ],
 "metadata": {
  "kernelspec": {
   "display_name": "Python 3 (ipykernel)",
   "language": "python",
   "name": "python3"
  },
  "language_info": {
   "codemirror_mode": {
    "name": "ipython",
    "version": 3
   },
   "file_extension": ".py",
   "mimetype": "text/x-python",
   "name": "python",
   "nbconvert_exporter": "python",
   "pygments_lexer": "ipython3",
   "version": "3.9.13"
  }
 },
 "nbformat": 4,
 "nbformat_minor": 5
}
