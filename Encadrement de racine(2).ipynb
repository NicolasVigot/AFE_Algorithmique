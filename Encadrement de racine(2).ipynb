{
 "cells": [
  {
   "cell_type": "markdown",
   "id": "960f9cff",
   "metadata": {
    "tags": [
     "expliquer",
     "compléter",
     "tester",
     "modifier",
     "écrire"
    ]
   },
   "source": [
    "# Déterminer par balayage un encadrement de $\\sqrt{2}$ d'amplitude inférieure ou égale à $10^{-n}$"
   ]
  },
  {
   "cell_type": "markdown",
   "id": "7180f65d",
   "metadata": {
    "tags": [
     "expliquer"
    ]
   },
   "source": [
    "## 1. Expliquer un algorithme\n",
    "\n",
    "Pour le programme ci-dessous :\n",
    "1. Quel est le rôle de la variable `x` ?\n",
    "2. Expliquer la ligne 3.\n",
    "3. Expliquer la ligne 4.\n",
    "4. Recopier ce programme sur [Pythontutor](https://pythontutor.com/), puis expliquer la ligne 5. "
   ]
  },
  {
   "cell_type": "code",
   "execution_count": 24,
   "id": "cc687cce",
   "metadata": {},
   "outputs": [
    {
     "data": {
      "text/plain": [
       "(1.4100000000000004, 1.4200000000000004)"
      ]
     },
     "execution_count": 24,
     "metadata": {},
     "output_type": "execute_result"
    }
   ],
   "source": [
    "def BalayageRacine(pas):\n",
    "    x=1\n",
    "    while x*x <= 2:\n",
    "        x = x + pas\n",
    "    return (x-pas,x)\n",
    "\n",
    "BalayageRacine(0.01)"
   ]
  },
  {
   "cell_type": "markdown",
   "id": "db8dc381",
   "metadata": {},
   "source": [
    "**Réponse :**\n",
    "1. \n",
    "2. \n",
    "3. \n",
    "4. \n",
    "5. "
   ]
  },
  {
   "cell_type": "markdown",
   "id": "d5dc7b7b",
   "metadata": {
    "tags": [
     "expliquer"
    ]
   },
   "source": [
    "## 2. Expliquer un algorithme"
   ]
  },
  {
   "cell_type": "code",
   "execution_count": 10,
   "id": "b345b6c0",
   "metadata": {},
   "outputs": [
    {
     "data": {
      "text/html": [
       "\n",
       "        <iframe\n",
       "            width=\"100%\"\n",
       "            height=\"500\"\n",
       "            src=\"https://www.codepuzzle.io/IPEWR4H\"\n",
       "            frameborder=\"0\"\n",
       "            allowfullscreen\n",
       "            \n",
       "        ></iframe>\n",
       "        "
      ],
      "text/plain": [
       "<IPython.lib.display.IFrame at 0x7fcc20d1d6d0>"
      ]
     },
     "execution_count": 10,
     "metadata": {},
     "output_type": "execute_result"
    }
   ],
   "source": [
    "from IPython.display import IFrame\n",
    "IFrame('https://www.codepuzzle.io/IPEWR4H', width='100%', height=500)"
   ]
  },
  {
   "cell_type": "markdown",
   "id": "218aaa17",
   "metadata": {
    "tags": [
     "compléter",
     "comprendre"
    ]
   },
   "source": [
    "## 3. Compléter un algorithme"
   ]
  },
  {
   "cell_type": "code",
   "execution_count": 9,
   "id": "dfcb817e",
   "metadata": {},
   "outputs": [
    {
     "data": {
      "text/html": [
       "\n",
       "        <iframe\n",
       "            width=\"100%\"\n",
       "            height=\"400\"\n",
       "            src=\"https://www.codepuzzle.io/IP2V843\"\n",
       "            frameborder=\"0\"\n",
       "            allowfullscreen\n",
       "            \n",
       "        ></iframe>\n",
       "        "
      ],
      "text/plain": [
       "<IPython.lib.display.IFrame at 0x7fcc20d1dee0>"
      ]
     },
     "execution_count": 9,
     "metadata": {},
     "output_type": "execute_result"
    }
   ],
   "source": [
    "from IPython.display import IFrame\n",
    "IFrame('https://www.codepuzzle.io/IP2V843', width='100%', height=400)"
   ]
  },
  {
   "cell_type": "markdown",
   "id": "9a811cef",
   "metadata": {
    "tags": [
     "modifier"
    ]
   },
   "source": [
    "## 4. Modifier un algorithme\n",
    "\n",
    "1. Modifier la fonction `BalayageRacine` précédente pour qu'elle renvoie un encadrement de $\\sqrt{5}$. \n",
    "2. Modifier la fonction `BalayageRacine` précédente pour que'elle accepte un argument supplémentaire `n`, et qu'elle renvoie un encadrement de $\\sqrt{n}$."
   ]
  },
  {
   "cell_type": "code",
   "execution_count": 23,
   "id": "d9a6f4a4",
   "metadata": {},
   "outputs": [
    {
     "data": {
      "text/html": [
       "\n",
       "        <iframe\n",
       "            width=\"100%\"\n",
       "            height=\"900\"\n",
       "            src=\"https://www.codepuzzle.io/IDQTSL\"\n",
       "            frameborder=\"0\"\n",
       "            allowfullscreen\n",
       "            \n",
       "        ></iframe>\n",
       "        "
      ],
      "text/plain": [
       "<IPython.lib.display.IFrame at 0x7fcc215100a0>"
      ]
     },
     "execution_count": 23,
     "metadata": {},
     "output_type": "execute_result"
    }
   ],
   "source": [
    "from IPython.display import IFrame\n",
    "IFrame('https://www.codepuzzle.io/IDQTSL', width='100%', height=900)"
   ]
  },
  {
   "cell_type": "markdown",
   "id": "1f4c7d13",
   "metadata": {
    "tags": [
     "écrire"
    ]
   },
   "source": [
    "## 5. Écrire un algorithme\n",
    "\n",
    "Écrire une fonction qui retourne un encadrement de $\\sqrt{a}$ d'amplitude inférieure ou égale à $10^{-n}$. Cette fonction prendra trois arguments :\n",
    "- Un nombre réel $a>0$.\n",
    "- Un nombre entier $n>0$.\n",
    "- Un nombre réel $x_0 \\geqslant 1$, qui permettra d'initialiser le balayage. "
   ]
  },
  {
   "cell_type": "code",
   "execution_count": null,
   "id": "d4179cf3",
   "metadata": {},
   "outputs": [],
   "source": []
  }
 ],
 "metadata": {
  "celltoolbar": "Tags",
  "kernelspec": {
   "display_name": "Python 3 (ipykernel)",
   "language": "python",
   "name": "python3"
  },
  "language_info": {
   "codemirror_mode": {
    "name": "ipython",
    "version": 3
   },
   "file_extension": ".py",
   "mimetype": "text/x-python",
   "name": "python",
   "nbconvert_exporter": "python",
   "pygments_lexer": "ipython3",
   "version": "3.9.13"
  }
 },
 "nbformat": 4,
 "nbformat_minor": 5
}
